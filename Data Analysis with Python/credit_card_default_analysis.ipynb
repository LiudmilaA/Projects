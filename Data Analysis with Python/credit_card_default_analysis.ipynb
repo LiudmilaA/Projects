{
 "cells": [
  {
   "cell_type": "markdown",
   "metadata": {},
   "source": [
    "## Credit card default analysis"
   ]
  },
  {
   "cell_type": "markdown",
   "metadata": {},
   "source": [
    "In this analysis, we will check the influence of certain factors on the loan default."
   ]
  },
  {
   "cell_type": "code",
   "execution_count": 1,
   "metadata": {},
   "outputs": [
    {
     "name": "stdout",
     "output_type": "stream",
     "text": [
      "Populating the interactive namespace from numpy and matplotlib\n"
     ]
    }
   ],
   "source": [
    "import statsmodels\n",
    "import scipy as sc\n",
    "import numpy as np\n",
    "import pandas as pd\n",
    "import seaborn as sns\n",
    "import statsmodels.stats.multitest as smm\n",
    "from statsmodels.stats.weightstats import *\n",
    "from statsmodels.stats.descriptivestats import sign_test\n",
    "from statsmodels.stats.proportion import proportion_confint\n",
    "import matplotlib.pyplot as plt\n",
    "%pylab inline"
   ]
  },
  {
   "cell_type": "code",
   "execution_count": 2,
   "metadata": {},
   "outputs": [
    {
     "data": {
      "text/html": [
       "<div>\n",
       "<style scoped>\n",
       "    .dataframe tbody tr th:only-of-type {\n",
       "        vertical-align: middle;\n",
       "    }\n",
       "\n",
       "    .dataframe tbody tr th {\n",
       "        vertical-align: top;\n",
       "    }\n",
       "\n",
       "    .dataframe thead th {\n",
       "        text-align: right;\n",
       "    }\n",
       "</style>\n",
       "<table border=\"1\" class=\"dataframe\">\n",
       "  <thead>\n",
       "    <tr style=\"text-align: right;\">\n",
       "      <th></th>\n",
       "      <th>ID</th>\n",
       "      <th>LIMIT_BAL</th>\n",
       "      <th>SEX</th>\n",
       "      <th>EDUCATION</th>\n",
       "      <th>MARRIAGE</th>\n",
       "      <th>AGE</th>\n",
       "      <th>PAY_0</th>\n",
       "      <th>PAY_2</th>\n",
       "      <th>PAY_3</th>\n",
       "      <th>PAY_4</th>\n",
       "      <th>...</th>\n",
       "      <th>BILL_AMT4</th>\n",
       "      <th>BILL_AMT5</th>\n",
       "      <th>BILL_AMT6</th>\n",
       "      <th>PAY_AMT1</th>\n",
       "      <th>PAY_AMT2</th>\n",
       "      <th>PAY_AMT3</th>\n",
       "      <th>PAY_AMT4</th>\n",
       "      <th>PAY_AMT5</th>\n",
       "      <th>PAY_AMT6</th>\n",
       "      <th>default</th>\n",
       "    </tr>\n",
       "  </thead>\n",
       "  <tbody>\n",
       "    <tr>\n",
       "      <th>0</th>\n",
       "      <td>1</td>\n",
       "      <td>20000</td>\n",
       "      <td>2</td>\n",
       "      <td>2</td>\n",
       "      <td>1</td>\n",
       "      <td>24</td>\n",
       "      <td>2</td>\n",
       "      <td>2</td>\n",
       "      <td>0</td>\n",
       "      <td>0</td>\n",
       "      <td>...</td>\n",
       "      <td>0</td>\n",
       "      <td>0</td>\n",
       "      <td>0</td>\n",
       "      <td>0</td>\n",
       "      <td>689</td>\n",
       "      <td>0</td>\n",
       "      <td>0</td>\n",
       "      <td>0</td>\n",
       "      <td>0</td>\n",
       "      <td>1</td>\n",
       "    </tr>\n",
       "    <tr>\n",
       "      <th>1</th>\n",
       "      <td>2</td>\n",
       "      <td>120000</td>\n",
       "      <td>2</td>\n",
       "      <td>2</td>\n",
       "      <td>2</td>\n",
       "      <td>26</td>\n",
       "      <td>0</td>\n",
       "      <td>2</td>\n",
       "      <td>0</td>\n",
       "      <td>0</td>\n",
       "      <td>...</td>\n",
       "      <td>3272</td>\n",
       "      <td>3455</td>\n",
       "      <td>3261</td>\n",
       "      <td>0</td>\n",
       "      <td>1000</td>\n",
       "      <td>1000</td>\n",
       "      <td>1000</td>\n",
       "      <td>0</td>\n",
       "      <td>2000</td>\n",
       "      <td>1</td>\n",
       "    </tr>\n",
       "    <tr>\n",
       "      <th>2</th>\n",
       "      <td>3</td>\n",
       "      <td>90000</td>\n",
       "      <td>2</td>\n",
       "      <td>2</td>\n",
       "      <td>2</td>\n",
       "      <td>34</td>\n",
       "      <td>0</td>\n",
       "      <td>0</td>\n",
       "      <td>0</td>\n",
       "      <td>0</td>\n",
       "      <td>...</td>\n",
       "      <td>14331</td>\n",
       "      <td>14948</td>\n",
       "      <td>15549</td>\n",
       "      <td>1518</td>\n",
       "      <td>1500</td>\n",
       "      <td>1000</td>\n",
       "      <td>1000</td>\n",
       "      <td>1000</td>\n",
       "      <td>5000</td>\n",
       "      <td>0</td>\n",
       "    </tr>\n",
       "    <tr>\n",
       "      <th>3</th>\n",
       "      <td>4</td>\n",
       "      <td>50000</td>\n",
       "      <td>2</td>\n",
       "      <td>2</td>\n",
       "      <td>1</td>\n",
       "      <td>37</td>\n",
       "      <td>0</td>\n",
       "      <td>0</td>\n",
       "      <td>0</td>\n",
       "      <td>0</td>\n",
       "      <td>...</td>\n",
       "      <td>28314</td>\n",
       "      <td>28959</td>\n",
       "      <td>29547</td>\n",
       "      <td>2000</td>\n",
       "      <td>2019</td>\n",
       "      <td>1200</td>\n",
       "      <td>1100</td>\n",
       "      <td>1069</td>\n",
       "      <td>1000</td>\n",
       "      <td>0</td>\n",
       "    </tr>\n",
       "    <tr>\n",
       "      <th>4</th>\n",
       "      <td>5</td>\n",
       "      <td>50000</td>\n",
       "      <td>1</td>\n",
       "      <td>2</td>\n",
       "      <td>1</td>\n",
       "      <td>57</td>\n",
       "      <td>0</td>\n",
       "      <td>0</td>\n",
       "      <td>0</td>\n",
       "      <td>0</td>\n",
       "      <td>...</td>\n",
       "      <td>20940</td>\n",
       "      <td>19146</td>\n",
       "      <td>19131</td>\n",
       "      <td>2000</td>\n",
       "      <td>36681</td>\n",
       "      <td>10000</td>\n",
       "      <td>9000</td>\n",
       "      <td>689</td>\n",
       "      <td>679</td>\n",
       "      <td>0</td>\n",
       "    </tr>\n",
       "  </tbody>\n",
       "</table>\n",
       "<p>5 rows × 25 columns</p>\n",
       "</div>"
      ],
      "text/plain": [
       "   ID  LIMIT_BAL  SEX  EDUCATION  MARRIAGE  AGE  PAY_0  PAY_2  PAY_3  PAY_4  \\\n",
       "0   1      20000    2          2         1   24      2      2      0      0   \n",
       "1   2     120000    2          2         2   26      0      2      0      0   \n",
       "2   3      90000    2          2         2   34      0      0      0      0   \n",
       "3   4      50000    2          2         1   37      0      0      0      0   \n",
       "4   5      50000    1          2         1   57      0      0      0      0   \n",
       "\n",
       "   ...  BILL_AMT4  BILL_AMT5  BILL_AMT6  PAY_AMT1  PAY_AMT2  PAY_AMT3  \\\n",
       "0  ...          0          0          0         0       689         0   \n",
       "1  ...       3272       3455       3261         0      1000      1000   \n",
       "2  ...      14331      14948      15549      1518      1500      1000   \n",
       "3  ...      28314      28959      29547      2000      2019      1200   \n",
       "4  ...      20940      19146      19131      2000     36681     10000   \n",
       "\n",
       "   PAY_AMT4  PAY_AMT5  PAY_AMT6  default  \n",
       "0         0         0         0        1  \n",
       "1      1000         0      2000        1  \n",
       "2      1000      1000      5000        0  \n",
       "3      1100      1069      1000        0  \n",
       "4      9000       689       679        0  \n",
       "\n",
       "[5 rows x 25 columns]"
      ]
     },
     "execution_count": 2,
     "metadata": {},
     "output_type": "execute_result"
    }
   ],
   "source": [
    "credits = pd.read_csv('credit_card_default_analysis.csv')\n",
    "credits.head()"
   ]
  },
  {
   "cell_type": "markdown",
   "metadata": {},
   "source": [
    "Information about data:\n",
    "* LIMIT_BAL: credit limit\n",
    "* SEX: client's sex (1 = male, 2 = female)\n",
    "* EDUCATION: education (0 = phd, 1 = master; 2 = bachelor; 3 = school graduate; 4 = primary education; 5 = other; 6 = not information ).\n",
    "* MARRIAGE: (0 = refuse to answer; 1 = married; 2 = single; 3 = not information).\n",
    "* AGE: age in years\n",
    "* PAY_0 - PAY_6 : History of payments. PAY_6 - payment in april, ... Pay_0 - payment in september. Payment = (0 = on time, 1= 1 month delay, 2=2 month delay ...)\n",
    "* BILL_AMT1 - BILL_AMT6: debt, BILL_AMT6 - far april, BILL_AMT1 - for september\n",
    "* PAY_AMT1 - PAY_AMT6: amount paid in PAY_AMT6 - april, ..., PAY_AMT1 - september\n",
    "* default - default indicator (1 = default, 0 = not default)"
   ]
  },
  {
   "cell_type": "code",
   "execution_count": 3,
   "metadata": {},
   "outputs": [
    {
     "data": {
      "text/plain": [
       "0    23364\n",
       "1     6636\n",
       "Name: default, dtype: int64"
      ]
     },
     "execution_count": 3,
     "metadata": {},
     "output_type": "execute_result"
    }
   ],
   "source": [
    "credits.default.value_counts()"
   ]
  },
  {
   "cell_type": "markdown",
   "metadata": {},
   "source": [
    "1. Firstly, let's look at variable **LIMIT_BAL** - the size of the credit limit and check the hypotheses about the equality of the median values of the credit limit and the equality of distributions."
   ]
  },
  {
   "cell_type": "code",
   "execution_count": 4,
   "metadata": {},
   "outputs": [
    {
     "data": {
      "image/png": "[encoded data removed]",
      "text/plain": [
       "<Figure size 1080x288 with 3 Axes>"
      ]
     },
     "metadata": {
      "needs_background": "light"
     },
     "output_type": "display_data"
    }
   ],
   "source": [
    "fig = plt.figure(figsize=(15,4))\n",
    "ax1 = fig.add_subplot(1, 3, 1)\n",
    "ax2 = fig.add_subplot(1, 3, 2)\n",
    "ax3 = fig.add_subplot(1, 3, 3)\n",
    "ax1.yaxis.grid(linestyle='--')\n",
    "ax1.set_axisbelow(True)\n",
    "ax1.hist(credits.LIMIT_BAL)\n",
    "plt.suptitle('Distribution of credit limit', fontsize=15)\n",
    "ax1.set_xlabel('all credits', fontsize=12)\n",
    "ax2.yaxis.grid(linestyle='--')\n",
    "ax2.set_axisbelow(True)\n",
    "ax2.hist(credits[credits.default == 1].LIMIT_BAL)\n",
    "ax2.set_xlabel('default credits', fontsize=12)\n",
    "ax3.yaxis.grid(linestyle='--')\n",
    "ax3.set_axisbelow(True)\n",
    "ax3.hist(credits[credits.default == 0].LIMIT_BAL)\n",
    "ax3.set_xlabel('not default credits', fontsize=12)\n",
    "plt.show()"
   ]
  },
  {
   "cell_type": "code",
   "execution_count": 5,
   "metadata": {},
   "outputs": [
    {
     "data": {
      "image/png": "[encoded data removed]",
      "text/plain": [
       "<Figure size 1080x288 with 3 Axes>"
      ]
     },
     "metadata": {
      "needs_background": "light"
     },
     "output_type": "display_data"
    }
   ],
   "source": [
    "fig = plt.figure(figsize=(15,4))\n",
    "ax1 = fig.add_subplot(1, 3, 1)\n",
    "ax2 = fig.add_subplot(1, 3, 2)\n",
    "ax3 = fig.add_subplot(1, 3, 3)\n",
    "ax1.yaxis.grid(linestyle='--')\n",
    "ax1.set_axisbelow(True)\n",
    "ax1.hist(log(credits.LIMIT_BAL))\n",
    "plt.suptitle('Distribution of logaritm of credit limit', fontsize=15)\n",
    "ax1.set_xlabel('all credits', fontsize=12)\n",
    "ax2.yaxis.grid(linestyle='--')\n",
    "ax2.set_axisbelow(True)\n",
    "ax2.hist(log(credits[credits.default == 1].LIMIT_BAL))\n",
    "ax2.set_xlabel('default credits', fontsize=12)\n",
    "ax3.yaxis.grid(linestyle='--')\n",
    "ax3.set_axisbelow(True)\n",
    "ax3.hist(log(credits[credits.default == 0].LIMIT_BAL))\n",
    "ax3.set_xlabel('not default credits', fontsize=12)\n",
    "plt.show()"
   ]
  },
  {
   "cell_type": "markdown",
   "metadata": {},
   "source": [
    "### Hypothesis about the equality of the median values of the credit limit and the equality of distributions \n",
    "\n",
    "H0: mean values of credit limit for default and non-default credits are equal\n",
    "\n",
    "H1: mean values are not equal"
   ]
  },
  {
   "cell_type": "code",
   "execution_count": 6,
   "metadata": {},
   "outputs": [
    {
     "data": {
      "text/plain": [
       "MannwhitneyuResult(statistic=59257217.5, pvalue=6.127742909111652e-190)"
      ]
     },
     "execution_count": 6,
     "metadata": {},
     "output_type": "execute_result"
    }
   ],
   "source": [
    "limits_default = credits[credits.default == 1].LIMIT_BAL\n",
    "limits_not_default = credits[credits.default == 0].LIMIT_BAL\n",
    "sc.stats.mannwhitneyu(limits_default, limits_not_default)"
   ]
  },
  {
   "cell_type": "markdown",
   "metadata": {},
   "source": [
    "We have a very small p_value, which means we can reject the null hypothesis in favor of the alternative one. Mean values are not equal."
   ]
  },
  {
   "cell_type": "markdown",
   "metadata": {},
   "source": [
    "### Confident interval for median"
   ]
  },
  {
   "cell_type": "markdown",
   "metadata": {},
   "source": [
    "Using a point estimate"
   ]
  },
  {
   "cell_type": "code",
   "execution_count": 7,
   "metadata": {},
   "outputs": [
    {
     "name": "stdout",
     "output_type": "stream",
     "text": [
      "Confident interval for median of credit limits for default credits: [ 80000 ; 90000 ]\n",
      "Confident interval for median of credit limits for not default credits: [ 150000 ; 150000 ]\n"
     ]
    }
   ],
   "source": [
    "limits_default_sorted = sort(credits[credits.default == 1].LIMIT_BAL)\n",
    "limits_not_default_sorted = sort(credits[credits.default == 0].LIMIT_BAL)\n",
    "\n",
    "n_default = len(limits_default_sorted)\n",
    "n_not_default = len(limits_not_default_sorted)\n",
    "\n",
    "k_default = int(1/2*(n_default -1.96*sqrt(n_default) - 1))\n",
    "k_not_default = int(1/2*(n_not_default -1.96*sqrt(n_not_default) - 1))\n",
    "print('Confident interval for median of credit limits for default credits:', '[', limits_default_sorted[k_default],\n",
    "     ';', limits_default_sorted[n_default - k_default + 1],']')\n",
    "print('Confident interval for median of credit limits for not default credits:', '[', limits_not_default_sorted[k_not_default],\n",
    "     ';', limits_not_default_sorted[n_not_default - k_not_default + 1],']')"
   ]
  },
  {
   "cell_type": "markdown",
   "metadata": {},
   "source": [
    "Using a bootstrap"
   ]
  },
  {
   "cell_type": "code",
   "execution_count": 8,
   "metadata": {},
   "outputs": [
    {
     "name": "stdout",
     "output_type": "stream",
     "text": [
      "Confident interval for median of credit limits for default credits: (80000.0, 90000.0)\n",
      "Confident interval for median of credit limits for not default credits: (150000.0, 150000.0)\n"
     ]
    }
   ],
   "source": [
    "def bootstrap(data, n = 1000):\n",
    "    data = np.ravel(data)\n",
    "    index = np.random.randint(data.size, size=(n, data.size))\n",
    "    return data[index]\n",
    "\n",
    "def bootci(data, stat=median, n=1000, alpha=0.05):\n",
    "    boot = bootstrap(data)\n",
    "    sorted_stat = np.sort(stat(boot, axis=1))\n",
    "    ci = (sorted_stat[np.round(n*alpha/2).astype(int)], \n",
    "              sorted_stat[np.round(n*(1-alpha/2)).astype(int)])\n",
    "    return ci\n",
    "        \n",
    "print('Confident interval for median of credit limits for default credits:', \n",
    "      bootci(credits[credits.default == 1].LIMIT_BAL))\n",
    "print('Confident interval for median of credit limits for not default credits:', \n",
    "      bootci(credits[credits.default == 0].LIMIT_BAL))"
   ]
  },
  {
   "cell_type": "markdown",
   "metadata": {},
   "source": [
    "Confidence intervals do not overlap, so we can argue that the medians are not equal."
   ]
  },
  {
   "cell_type": "markdown",
   "metadata": {},
   "source": [
    "2. **SEX**: Let's test the hypothesis that the gender composition of the group of people who returned and did not return the credit is different."
   ]
  },
  {
   "cell_type": "markdown",
   "metadata": {},
   "source": [
    "A contingency table:"
   ]
  },
  {
   "cell_type": "code",
   "execution_count": 9,
   "metadata": {},
   "outputs": [],
   "source": [
    "a = credits[credits.default == 1].SEX.value_counts()[1]\n",
    "c = credits[credits.default == 1].SEX.value_counts()[2]\n",
    "b = credits[credits.default == 0].SEX.value_counts()[1]\n",
    "d = credits[credits.default == 0].SEX.value_counts()[2]"
   ]
  },
  {
   "cell_type": "code",
   "execution_count": 10,
   "metadata": {},
   "outputs": [
    {
     "data": {
      "text/html": [
       "<div>\n",
       "<style scoped>\n",
       "    .dataframe tbody tr th:only-of-type {\n",
       "        vertical-align: middle;\n",
       "    }\n",
       "\n",
       "    .dataframe tbody tr th {\n",
       "        vertical-align: top;\n",
       "    }\n",
       "\n",
       "    .dataframe thead th {\n",
       "        text-align: right;\n",
       "    }\n",
       "</style>\n",
       "<table border=\"1\" class=\"dataframe\">\n",
       "  <thead>\n",
       "    <tr style=\"text-align: right;\">\n",
       "      <th></th>\n",
       "      <th>key</th>\n",
       "      <th>default</th>\n",
       "      <th>not_default</th>\n",
       "      <th>all_credits</th>\n",
       "    </tr>\n",
       "  </thead>\n",
       "  <tbody>\n",
       "    <tr>\n",
       "      <th>0</th>\n",
       "      <td>female</td>\n",
       "      <td>2873</td>\n",
       "      <td>9015</td>\n",
       "      <td>11888</td>\n",
       "    </tr>\n",
       "    <tr>\n",
       "      <th>1</th>\n",
       "      <td>male</td>\n",
       "      <td>3763</td>\n",
       "      <td>14349</td>\n",
       "      <td>18112</td>\n",
       "    </tr>\n",
       "    <tr>\n",
       "      <th>2</th>\n",
       "      <td>total</td>\n",
       "      <td>6636</td>\n",
       "      <td>23364</td>\n",
       "      <td>30000</td>\n",
       "    </tr>\n",
       "  </tbody>\n",
       "</table>\n",
       "</div>"
      ],
      "text/plain": [
       "      key  default  not_default  all_credits\n",
       "0  female     2873         9015        11888\n",
       "1    male     3763        14349        18112\n",
       "2   total     6636        23364        30000"
      ]
     },
     "execution_count": 10,
     "metadata": {},
     "output_type": "execute_result"
    }
   ],
   "source": [
    "tab = pd.DataFrame({'key': ['female', 'male', 'total'], 'default': [a, c, a+c], \n",
    "                    'not_default': [b, d, b+d], 'all_credits' : [a+b, c+d, a+b+c+d]})\n",
    "tab"
   ]
  },
  {
   "cell_type": "markdown",
   "metadata": {},
   "source": [
    "Check the hypothesis that gender composition differs\n",
    "\n",
    "H0: gender composition is the same\n",
    "\n",
    "H1: gender composition is different\n",
    "\n",
    "Construct confidence intervals for the proportion of men in these 2 samples:"
   ]
  },
  {
   "cell_type": "code",
   "execution_count": 11,
   "metadata": {},
   "outputs": [
    {
     "name": "stdout",
     "output_type": "stream",
     "text": [
      "Confidential interval for male proportion in default credits: (0.5551017630282817, 0.578937581965066)\n",
      "Confidential interval for male proportion in not default credits: (0.607889734030124, 0.6203726841910749)\n"
     ]
    }
   ],
   "source": [
    "conf_int_male_default = proportion_confint(tab.default[1], \n",
    "                                            tab.default[2],\n",
    "                                            method = 'wilson')\n",
    "conf_int_male_not_default = proportion_confint(tab.not_default[1], \n",
    "                                            tab.not_default[2],\n",
    "                                            method = 'wilson')\n",
    "print('Confidential interval for male proportion in default credits:', conf_int_male_default)\n",
    "print('Confidential interval for male proportion in not default credits:', conf_int_male_not_default)"
   ]
  },
  {
   "cell_type": "markdown",
   "metadata": {},
   "source": [
    "Confidence intervals do not overlap, so the proportions of men in default and non-default credits are not the same.\n",
    "We also check using the z-test for the difference of proportions."
   ]
  },
  {
   "cell_type": "code",
   "execution_count": 12,
   "metadata": {},
   "outputs": [
    {
     "name": "stdout",
     "output_type": "stream",
     "text": [
      "p_value: 4.472866521609831e-12\n"
     ]
    }
   ],
   "source": [
    "p1 = float(tab.default[1]) / tab.default[2]\n",
    "p2 = float(tab.not_default[1]) / tab.not_default[2]\n",
    "P = float(tab.all_credits[1]) / (tab.all_credits[2])\n",
    "\n",
    "z_stat = (p1 - p2) / np.sqrt(P * (1 - P) * (1. / tab.default[2] + 1. / tab.not_default[2]))\n",
    "\n",
    "print('p_value:', 2 * (1 - sc.stats.norm.cdf(np.abs(z_stat))))"
   ]
  },
  {
   "cell_type": "markdown",
   "metadata": {},
   "source": [
    "p_value is small, then at a significance level of 0.05, we reject the zero hypothesis in favor of the alternative one. Gender composition is different!"
   ]
  },
  {
   "cell_type": "markdown",
   "metadata": {},
   "source": [
    "3. **EDUCATION**: Test the hypothesis that education does not affect whether a person will return credit."
   ]
  },
  {
   "cell_type": "code",
   "execution_count": 13,
   "metadata": {},
   "outputs": [],
   "source": [
    "r1 = credits[credits.default == 1].EDUCATION.value_counts()\n",
    "r2 =  credits[credits.default == 0].EDUCATION.value_counts()"
   ]
  },
  {
   "cell_type": "code",
   "execution_count": 14,
   "metadata": {},
   "outputs": [
    {
     "data": {
      "text/html": [
       "<div>\n",
       "<style scoped>\n",
       "    .dataframe tbody tr th:only-of-type {\n",
       "        vertical-align: middle;\n",
       "    }\n",
       "\n",
       "    .dataframe tbody tr th {\n",
       "        vertical-align: top;\n",
       "    }\n",
       "\n",
       "    .dataframe thead th {\n",
       "        text-align: right;\n",
       "    }\n",
       "</style>\n",
       "<table border=\"1\" class=\"dataframe\">\n",
       "  <thead>\n",
       "    <tr style=\"text-align: right;\">\n",
       "      <th></th>\n",
       "      <th>key</th>\n",
       "      <th>default</th>\n",
       "      <th>not_default</th>\n",
       "      <th>proportion of default</th>\n",
       "    </tr>\n",
       "  </thead>\n",
       "  <tbody>\n",
       "    <tr>\n",
       "      <th>0</th>\n",
       "      <td>phd</td>\n",
       "      <td>0</td>\n",
       "      <td>14</td>\n",
       "      <td>0.000000</td>\n",
       "    </tr>\n",
       "    <tr>\n",
       "      <th>1</th>\n",
       "      <td>master</td>\n",
       "      <td>2036</td>\n",
       "      <td>8549</td>\n",
       "      <td>0.192348</td>\n",
       "    </tr>\n",
       "    <tr>\n",
       "      <th>2</th>\n",
       "      <td>bachelor</td>\n",
       "      <td>3330</td>\n",
       "      <td>10700</td>\n",
       "      <td>0.237349</td>\n",
       "    </tr>\n",
       "    <tr>\n",
       "      <th>3</th>\n",
       "      <td>school graduate</td>\n",
       "      <td>1237</td>\n",
       "      <td>3680</td>\n",
       "      <td>0.251576</td>\n",
       "    </tr>\n",
       "    <tr>\n",
       "      <th>4</th>\n",
       "      <td>primary education</td>\n",
       "      <td>7</td>\n",
       "      <td>116</td>\n",
       "      <td>0.056911</td>\n",
       "    </tr>\n",
       "    <tr>\n",
       "      <th>5</th>\n",
       "      <td>other</td>\n",
       "      <td>18</td>\n",
       "      <td>262</td>\n",
       "      <td>0.064286</td>\n",
       "    </tr>\n",
       "    <tr>\n",
       "      <th>6</th>\n",
       "      <td>not information</td>\n",
       "      <td>8</td>\n",
       "      <td>43</td>\n",
       "      <td>0.156863</td>\n",
       "    </tr>\n",
       "  </tbody>\n",
       "</table>\n",
       "</div>"
      ],
      "text/plain": [
       "                 key  default  not_default  proportion of default\n",
       "0                phd        0           14               0.000000\n",
       "1             master     2036         8549               0.192348\n",
       "2           bachelor     3330        10700               0.237349\n",
       "3    school graduate     1237         3680               0.251576\n",
       "4  primary education        7          116               0.056911\n",
       "5              other       18          262               0.064286\n",
       "6    not information        8           43               0.156863"
      ]
     },
     "execution_count": 14,
     "metadata": {},
     "output_type": "execute_result"
    }
   ],
   "source": [
    "tab = pd.DataFrame({'key': ['phd', 'master', 'bachelor', 'school graduate', 'primary education', 'other', 'not information'], \n",
    "                    'default': [0, r1[1], r1[2], r1[3], r1[4], r1[5], r1[6]], \n",
    "                    'not_default': [r2[0], r2[1], r2[2], r2[3], r2[4], r2[5], r2[6]]})\n",
    "tab['proportion of default'] = [tab.default[i]/(tab.default[i] + tab.not_default[i]) for i in range(len(tab.default))]\n",
    "tab"
   ]
  },
  {
   "cell_type": "markdown",
   "metadata": {},
   "source": [
    "Make multiple testing of hypotheses for the comparison of proportions by levels of education"
   ]
  },
  {
   "cell_type": "code",
   "execution_count": 15,
   "metadata": {},
   "outputs": [
    {
     "data": {
      "text/html": [
       "<div>\n",
       "<style scoped>\n",
       "    .dataframe tbody tr th:only-of-type {\n",
       "        vertical-align: middle;\n",
       "    }\n",
       "\n",
       "    .dataframe tbody tr th {\n",
       "        vertical-align: top;\n",
       "    }\n",
       "\n",
       "    .dataframe thead th {\n",
       "        text-align: right;\n",
       "    }\n",
       "</style>\n",
       "<table border=\"1\" class=\"dataframe\">\n",
       "  <thead>\n",
       "    <tr style=\"text-align: right;\">\n",
       "      <th></th>\n",
       "      <th>key</th>\n",
       "      <th>default</th>\n",
       "      <th>not_default</th>\n",
       "      <th>proportion of default</th>\n",
       "      <th>p_value</th>\n",
       "    </tr>\n",
       "  </thead>\n",
       "  <tbody>\n",
       "    <tr>\n",
       "      <th>0</th>\n",
       "      <td>phd</td>\n",
       "      <td>0</td>\n",
       "      <td>14</td>\n",
       "      <td>0.000000</td>\n",
       "      <td>1.620582e-01</td>\n",
       "    </tr>\n",
       "    <tr>\n",
       "      <th>1</th>\n",
       "      <td>master</td>\n",
       "      <td>2036</td>\n",
       "      <td>8549</td>\n",
       "      <td>0.192348</td>\n",
       "      <td>4.603316e-10</td>\n",
       "    </tr>\n",
       "    <tr>\n",
       "      <th>2</th>\n",
       "      <td>bachelor</td>\n",
       "      <td>3330</td>\n",
       "      <td>10700</td>\n",
       "      <td>0.237349</td>\n",
       "      <td>9.521837e-06</td>\n",
       "    </tr>\n",
       "    <tr>\n",
       "      <th>3</th>\n",
       "      <td>school graduate</td>\n",
       "      <td>1237</td>\n",
       "      <td>3680</td>\n",
       "      <td>0.251576</td>\n",
       "      <td>8.343973e-05</td>\n",
       "    </tr>\n",
       "    <tr>\n",
       "      <th>4</th>\n",
       "      <td>primary education</td>\n",
       "      <td>7</td>\n",
       "      <td>116</td>\n",
       "      <td>0.056911</td>\n",
       "      <td>2.044648e-03</td>\n",
       "    </tr>\n",
       "    <tr>\n",
       "      <th>5</th>\n",
       "      <td>other</td>\n",
       "      <td>18</td>\n",
       "      <td>262</td>\n",
       "      <td>0.064286</td>\n",
       "      <td>8.371890e-06</td>\n",
       "    </tr>\n",
       "    <tr>\n",
       "      <th>6</th>\n",
       "      <td>not information</td>\n",
       "      <td>8</td>\n",
       "      <td>43</td>\n",
       "      <td>0.156863</td>\n",
       "      <td>4.373598e-01</td>\n",
       "    </tr>\n",
       "  </tbody>\n",
       "</table>\n",
       "</div>"
      ],
      "text/plain": [
       "                 key  default  not_default  proportion of default  \\\n",
       "0                phd        0           14               0.000000   \n",
       "1             master     2036         8549               0.192348   \n",
       "2           bachelor     3330        10700               0.237349   \n",
       "3    school graduate     1237         3680               0.251576   \n",
       "4  primary education        7          116               0.056911   \n",
       "5              other       18          262               0.064286   \n",
       "6    not information        8           43               0.156863   \n",
       "\n",
       "        p_value  \n",
       "0  1.620582e-01  \n",
       "1  4.603316e-10  \n",
       "2  9.521837e-06  \n",
       "3  8.343973e-05  \n",
       "4  2.044648e-03  \n",
       "5  8.371890e-06  \n",
       "6  4.373598e-01  "
      ]
     },
     "execution_count": 15,
     "metadata": {},
     "output_type": "execute_result"
    }
   ],
   "source": [
    "p_values = []\n",
    "for i in [0, 1, 2, 3, 4, 5, 6]:\n",
    "    p1 = float(tab.default[i]) / sum(tab.default)\n",
    "    p2 = float(tab.not_default[i]) / sum(tab.not_default)\n",
    "    P = float(p1*sum(tab.default) + p2*sum(tab.not_default)) / (sum(tab.default) + sum(tab.not_default))\n",
    "    z_stat = (p1 - p2) / np.sqrt(P * (1 - P) * (1. / tab.default[2] + 1. / tab.not_default[2]))\n",
    "    p_values.append(2 * (1 - sc.stats.norm.cdf(np.abs(z_stat))))\n",
    "tab['p_value'] = p_values\n",
    "tab"
   ]
  },
  {
   "cell_type": "markdown",
   "metadata": {},
   "source": [
    "Based on the results, we can say that there is a significant difference only for 2 categories - people with phd and people who have not indicated their education."
   ]
  },
  {
   "cell_type": "markdown",
   "metadata": {},
   "source": [
    "4. **MARRIAGE**: Check how the marital status is related to the default indicator"
   ]
  },
  {
   "cell_type": "markdown",
   "metadata": {},
   "source": [
    "Calculate the Kramen’s coefficient for these two variables and see if there is a relation between them."
   ]
  },
  {
   "cell_type": "code",
   "execution_count": 16,
   "metadata": {},
   "outputs": [
    {
     "data": {
      "text/html": [
       "<div>\n",
       "<style scoped>\n",
       "    .dataframe tbody tr th:only-of-type {\n",
       "        vertical-align: middle;\n",
       "    }\n",
       "\n",
       "    .dataframe tbody tr th {\n",
       "        vertical-align: top;\n",
       "    }\n",
       "\n",
       "    .dataframe thead th {\n",
       "        text-align: right;\n",
       "    }\n",
       "</style>\n",
       "<table border=\"1\" class=\"dataframe\">\n",
       "  <thead>\n",
       "    <tr style=\"text-align: right;\">\n",
       "      <th>MARRIAGE</th>\n",
       "      <th>0</th>\n",
       "      <th>1</th>\n",
       "      <th>2</th>\n",
       "      <th>3</th>\n",
       "      <th>All</th>\n",
       "    </tr>\n",
       "    <tr>\n",
       "      <th>default</th>\n",
       "      <th></th>\n",
       "      <th></th>\n",
       "      <th></th>\n",
       "      <th></th>\n",
       "      <th></th>\n",
       "    </tr>\n",
       "  </thead>\n",
       "  <tbody>\n",
       "    <tr>\n",
       "      <th>0</th>\n",
       "      <td>49</td>\n",
       "      <td>10453</td>\n",
       "      <td>12623</td>\n",
       "      <td>239</td>\n",
       "      <td>23364</td>\n",
       "    </tr>\n",
       "    <tr>\n",
       "      <th>1</th>\n",
       "      <td>5</td>\n",
       "      <td>3206</td>\n",
       "      <td>3341</td>\n",
       "      <td>84</td>\n",
       "      <td>6636</td>\n",
       "    </tr>\n",
       "    <tr>\n",
       "      <th>All</th>\n",
       "      <td>54</td>\n",
       "      <td>13659</td>\n",
       "      <td>15964</td>\n",
       "      <td>323</td>\n",
       "      <td>30000</td>\n",
       "    </tr>\n",
       "  </tbody>\n",
       "</table>\n",
       "</div>"
      ],
      "text/plain": [
       "MARRIAGE   0      1      2    3    All\n",
       "default                               \n",
       "0         49  10453  12623  239  23364\n",
       "1          5   3206   3341   84   6636\n",
       "All       54  13659  15964  323  30000"
      ]
     },
     "execution_count": 16,
     "metadata": {},
     "output_type": "execute_result"
    }
   ],
   "source": [
    "pd.crosstab(credits.default, credits.MARRIAGE, margins=True)"
   ]
  },
  {
   "cell_type": "code",
   "execution_count": 17,
   "metadata": {},
   "outputs": [],
   "source": [
    "def cramers_v(x, y):\n",
    "    confusion_matrix = pd.crosstab(x,y)\n",
    "    chi2 = sc.stats.chi2_contingency(confusion_matrix)[0]\n",
    "    n = confusion_matrix.sum().sum()\n",
    "    phi2 = chi2/n\n",
    "    r,k = confusion_matrix.shape\n",
    "    phi2corr = max(0, phi2-((k-1)*(r-1))/(n-1))\n",
    "    rcorr = r-((r-1)**2)/(n-1)\n",
    "    kcorr = k-((k-1)**2)/(n-1)\n",
    "    return np.sqrt(phi2corr/min((kcorr-1),(rcorr-1)))"
   ]
  },
  {
   "cell_type": "code",
   "execution_count": 18,
   "metadata": {},
   "outputs": [
    {
     "data": {
      "text/plain": [
       "0.03299665874336609"
      ]
     },
     "execution_count": 18,
     "metadata": {},
     "output_type": "execute_result"
    }
   ],
   "source": [
    "cramers_v(credits.default, credits.MARRIAGE)"
   ]
  },
  {
   "cell_type": "markdown",
   "metadata": {},
   "source": [
    "Relation is very weak."
   ]
  },
  {
   "cell_type": "markdown",
   "metadata": {},
   "source": [
    "5. **AGE**: Regarding two groups of people who returned and did not return credit, check the following hypotheses: a) equality of the median values of people’s ages b) equality of distributions."
   ]
  },
  {
   "cell_type": "code",
   "execution_count": 19,
   "metadata": {},
   "outputs": [
    {
     "data": {
      "image/png": "[encoded data removed]",
      "text/plain": [
       "<Figure size 1080x288 with 3 Axes>"
      ]
     },
     "metadata": {
      "needs_background": "light"
     },
     "output_type": "display_data"
    }
   ],
   "source": [
    "fig = plt.figure(figsize=(15,4))\n",
    "ax1 = fig.add_subplot(1, 3, 1)\n",
    "ax2 = fig.add_subplot(1, 3, 2)\n",
    "ax3 = fig.add_subplot(1, 3, 3)\n",
    "ax1.yaxis.grid(linestyle='--')\n",
    "ax1.set_axisbelow(True)\n",
    "ax1.hist(credits.AGE)\n",
    "plt.suptitle('Distribution of credit limit', fontsize=15)\n",
    "ax1.set_xlabel('all credits', fontsize=12)\n",
    "ax2.yaxis.grid(linestyle='--')\n",
    "ax2.set_axisbelow(True)\n",
    "ax2.hist(credits[credits.default == 1].AGE)\n",
    "ax2.set_xlabel('default credits', fontsize=12)\n",
    "ax3.yaxis.grid(linestyle='--')\n",
    "ax3.set_axisbelow(True)\n",
    "ax3.hist(credits[credits.default == 0].AGE)\n",
    "ax3.set_xlabel('not default credits', fontsize=12)\n",
    "plt.show()"
   ]
  },
  {
   "cell_type": "markdown",
   "metadata": {},
   "source": [
    "### Hipothesis about the equality of distributions\n",
    "\n",
    "H0: mean values of age for default and non-default loans are equal\n",
    "H1: mean values of age for default and non-default loans are not equal"
   ]
  },
  {
   "cell_type": "code",
   "execution_count": 20,
   "metadata": {},
   "outputs": [
    {
     "data": {
      "text/plain": [
       "MannwhitneyuResult(statistic=76966879.5, pvalue=0.1862517717449308)"
      ]
     },
     "execution_count": 20,
     "metadata": {},
     "output_type": "execute_result"
    }
   ],
   "source": [
    "age_default = credits[credits.default == 1].AGE\n",
    "age_not_default = credits[credits.default == 0].AGE\n",
    "sc.stats.mannwhitneyu(age_default, age_not_default)"
   ]
  },
  {
   "cell_type": "markdown",
   "metadata": {},
   "source": [
    "p_value > 0.05, we can not refuse null-hypothesis.\n",
    "\n",
    "### Confident intervals for medians"
   ]
  },
  {
   "cell_type": "code",
   "execution_count": 21,
   "metadata": {},
   "outputs": [
    {
     "name": "stdout",
     "output_type": "stream",
     "text": [
      "Confident interval for median of credit limits for default credits: (34.0, 35.0)\n",
      "Confident interval for median of credit limits for not default credits: (34.0, 34.0)\n"
     ]
    }
   ],
   "source": [
    "print('Confident interval for median of credit limits for default credits:', \n",
    "      bootci(credits[credits.default == 1].AGE))\n",
    "print('Confident interval for median of credit limits for not default credits:', \n",
    "      bootci(credits[credits.default == 0].AGE))"
   ]
  }
 ],
 "metadata": {
  "kernelspec": {
   "display_name": "Python 3",
   "language": "python",
   "name": "python3"
  },
  "language_info": {
   "codemirror_mode": {
    "name": "ipython",
    "version": 3
   },
   "file_extension": ".py",
   "mimetype": "text/x-python",
   "name": "python",
   "nbconvert_exporter": "python",
   "pygments_lexer": "ipython3",
   "version": "3.7.0"
  }
 },
 "nbformat": 4,
 "nbformat_minor": 2
}
